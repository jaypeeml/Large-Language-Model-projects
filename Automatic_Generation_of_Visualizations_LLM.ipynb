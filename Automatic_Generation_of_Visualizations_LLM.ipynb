{
  "nbformat": 4,
  "nbformat_minor": 0,
  "metadata": {
    "colab": {
      "provenance": []
    },
    "kernelspec": {
      "name": "python3",
      "display_name": "Python 3"
    },
    "language_info": {
      "name": "python"
    }
  },
  "cells": [
    {
      "cell_type": "markdown",
      "source": [
        "# Query Your CSV using LIDA: Automatic Generation of Visualizations with LLMs\n",
        "\n",
        "Diving deep into LIDA, it's a state-of-the-art tool designed for the automatic creation of grammar-agnostic visualizations and infographics. Its foundation is built on the intricate synergy between large language models (LLMs) and image generation models (IGMs). Here's a quick breakdown of LIDA's components:\n",
        "\n",
        "* SUMMARIZER: Transforms data into a concise natural language summary.\n",
        "GOAL EXPLORER: Enumerates the potential visualization objectives given the data at hand.\n",
        "* VISGENERATOR: Responsible for generating, refining, executing, and filtering the visualization code.\n",
        "* INFOGRAPHER: Produces stylized graphics that stay true to the original data, powered by IGMs.\n",
        "* Not only does LIDA come with a handy Python API, but it also offers a versatile user interface that allows for both direct manipulation and multilingual natural language inputs. Whether you're keen on crafting interactive charts, infographics, or captivating data stories, LIDA has got you covered!"
      ],
      "metadata": {
        "id": "Hopg0s8Jn5hB"
      }
    },
    {
      "cell_type": "code",
      "source": [
        "!cd LIDA-Demo-Streamlit-App\n",
        "!pip install -r \"LIDA-Demo-Streamlit-App//requirements.txt\""
      ],
      "metadata": {
        "id": "FwOG9fMFn6sT"
      },
      "execution_count": null,
      "outputs": []
    },
    {
      "cell_type": "code",
      "source": [
        "!npm install localtunnel"
      ],
      "metadata": {
        "colab": {
          "base_uri": "https://localhost:8080/"
        },
        "id": "sv4LhHF_p9z3",
        "outputId": "e580f2c0-9733-42f1-cf2a-486b86769612"
      },
      "execution_count": null,
      "outputs": [
        {
          "output_type": "stream",
          "name": "stdout",
          "text": [
            "\u001b[K\u001b[?25h\u001b[37;40mnpm\u001b[0m \u001b[0m\u001b[30;43mWARN\u001b[0m \u001b[0m\u001b[35msaveError\u001b[0m ENOENT: no such file or directory, open '/content/package.json'\n",
            "\u001b[0m\u001b[37;40mnpm\u001b[0m \u001b[0m\u001b[34;40mnotice\u001b[0m\u001b[35m\u001b[0m created a lockfile as package-lock.json. You should commit this file.\n",
            "\u001b[0m\u001b[37;40mnpm\u001b[0m \u001b[0m\u001b[30;43mWARN\u001b[0m \u001b[0m\u001b[35menoent\u001b[0m ENOENT: no such file or directory, open '/content/package.json'\n",
            "\u001b[0m\u001b[37;40mnpm\u001b[0m \u001b[0m\u001b[30;43mWARN\u001b[0m\u001b[35m\u001b[0m content No description\n",
            "\u001b[0m\u001b[37;40mnpm\u001b[0m \u001b[0m\u001b[30;43mWARN\u001b[0m\u001b[35m\u001b[0m content No repository field.\n",
            "\u001b[0m\u001b[37;40mnpm\u001b[0m \u001b[0m\u001b[30;43mWARN\u001b[0m\u001b[35m\u001b[0m content No README data\n",
            "\u001b[0m\u001b[37;40mnpm\u001b[0m \u001b[0m\u001b[30;43mWARN\u001b[0m\u001b[35m\u001b[0m content No license field.\n",
            "\u001b[0m\n",
            "+ localtunnel@2.0.2\n",
            "added 22 packages from 22 contributors and audited 22 packages in 1.761s\n",
            "\n",
            "3 packages are looking for funding\n",
            "  run `npm fund` for details\n",
            "\n",
            "found \u001b[92m0\u001b[0m vulnerabilities\n",
            "\n",
            "\u001b[K\u001b[?25h"
          ]
        }
      ]
    },
    {
      "cell_type": "code",
      "source": [
        "!streamlit run \"LIDA-Demo-Streamlit-App//app.py\" &>/content/logs.txt &"
      ],
      "metadata": {
        "id": "uPK8TB_4qAiE"
      },
      "execution_count": null,
      "outputs": []
    },
    {
      "cell_type": "code",
      "source": [
        "import urllib\n",
        "print(\"Password/Enpoint IP for localtunnel is:\",urllib.request.urlopen('https://ipv4.icanhazip.com').read().decode('utf8').strip(\"\\n\"))"
      ],
      "metadata": {
        "colab": {
          "base_uri": "https://localhost:8080/"
        },
        "id": "WeBGOHvNqAlH",
        "outputId": "a965bd77-0efa-498d-f8a2-17e19faea87f"
      },
      "execution_count": null,
      "outputs": [
        {
          "output_type": "stream",
          "name": "stdout",
          "text": [
            "Password/Enpoint IP for localtunnel is: 34.148.22.201\n"
          ]
        }
      ]
    },
    {
      "cell_type": "code",
      "source": [
        "!npx localtunnel --port 8501"
      ],
      "metadata": {
        "colab": {
          "base_uri": "https://localhost:8080/"
        },
        "id": "UpmgCmXwqAom",
        "outputId": "fd98822b-5ec1-498a-c9e0-54c4f4517cc6"
      },
      "execution_count": null,
      "outputs": [
        {
          "output_type": "stream",
          "name": "stdout",
          "text": [
            "\u001b[K\u001b[?25hnpx: installed 22 in 1.988s\n",
            "your url is: https://empty-results-accept.loca.lt\n",
            "^C\n"
          ]
        }
      ]
    }
  ]
}